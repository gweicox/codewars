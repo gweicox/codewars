{
 "cells": [
  {
   "cell_type": "markdown",
   "id": "f2ec62d6",
   "metadata": {},
   "source": [
    "### [5 kyu] Calculating with Functions"
   ]
  },
  {
   "cell_type": "markdown",
   "id": "ca022256",
   "metadata": {},
   "source": [
    "This time we want to write calculations using functions and get the results. Let's have a look at some examples:\n",
    "\n",
    "**seven(times(five()))** # must return 35 <br>\n",
    "**four(plus(nine()))** # must return 13 <br>\n",
    "**eight(minus(three()))** # must return 5 <br>\n",
    "**six(divided_by(two()))** # must return 3 <br>\n",
    "\n",
    "Requirements: <br>\n",
    "- There must be a function for each number from 0 (\"zero\") to 9 (\"nine\") <br>\n",
    "- There must be a function for each of the following mathematical operations: plus, minus, times, divided_by <br>\n",
    "- Each calculation consist of exactly one operation and two numbers <br>\n",
    "- The most outer function represents the left operand, the most inner function represents the right operand <br>\n",
    "- Division should be integer division. For example, this should return 2, not 2.666666...: <br>\n",
    "\n",
    "**eight(divided_by(three()))**"
   ]
  },
  {
   "cell_type": "code",
   "execution_count": 1,
   "id": "4dffb9b1",
   "metadata": {},
   "outputs": [],
   "source": [
    "def zero(*f): return 0 if not f else f[0](0)\n",
    "def one(*f): return 1 if not f else f[0](1)\n",
    "def two(*f): return 2 if not f else f[0](2)\n",
    "def three(*f): return 3 if not f else f[0](3)\n",
    "def four(*f): return 4 if not f else f[0](4)\n",
    "def five(*f): return 5 if not f else f[0](5)\n",
    "def six(*f): return 6 if not f else f[0](6)\n",
    "def seven(*f): return 7 if not f else f[0](7)\n",
    "def eight(*f): return 8 if not f else f[0](8)\n",
    "def nine(*f): return 9 if not f else f[0](9)\n",
    "\n",
    "def plus(y): return lambda x: x + y\n",
    "def minus(y): return lambda x: x - y\n",
    "def times(y): return lambda x: x * y\n",
    "def divided_by(y): return lambda x: x // y\n",
    "\n",
    "# 2022.09.04"
   ]
  },
  {
   "cell_type": "code",
   "execution_count": 2,
   "id": "046a38b6",
   "metadata": {},
   "outputs": [],
   "source": [
    "assert seven(times(five())) == 35\n",
    "assert four(plus(nine())) == 13\n",
    "assert eight(minus(three())) == 5\n",
    "assert six(divided_by(two())) == 3"
   ]
  },
  {
   "cell_type": "markdown",
   "id": "6f82d5cf",
   "metadata": {},
   "source": [
    "#### another solution"
   ]
  },
  {
   "cell_type": "code",
   "execution_count": 3,
   "id": "47227476",
   "metadata": {},
   "outputs": [],
   "source": [
    "three, four, nine = map(lambda x: lambda f = (lambda y: y): f(x), (3, 4, 9))\n",
    "plus, divided_by = (lambda y: lambda x: x + y, lambda y: lambda x: x // y)\n",
    "\n",
    "\n",
    "assert three(plus(four())) == 7\n",
    "assert nine(divided_by(three())) == 3"
   ]
  },
  {
   "cell_type": "markdown",
   "id": "4235d1dc",
   "metadata": {},
   "source": [
    "#### cool solution"
   ]
  },
  {
   "cell_type": "code",
   "execution_count": 4,
   "id": "628794aa",
   "metadata": {},
   "outputs": [],
   "source": [
    "number = lambda a: lambda f = lambda x: x: f(a)\n",
    "\n",
    "zero, one, two, three, four, five, six, seven, eight, nine = map(number, range(10))\n",
    "\n",
    "plus, minus, times, div = (eval(f'lambda a: lambda b: b {s} a') for s in ('+','-','*','//'))\n",
    "\n",
    "\n",
    "assert seven(times(five())) == 35\n",
    "assert four(plus(nine())) == 13\n",
    "assert eight(minus(three())) == 5\n",
    "assert six(div(two())) == 3"
   ]
  }
 ],
 "metadata": {
  "kernelspec": {
   "display_name": "Python 3",
   "language": "python",
   "name": "python3"
  },
  "language_info": {
   "codemirror_mode": {
    "name": "ipython",
    "version": 3
   },
   "file_extension": ".py",
   "mimetype": "text/x-python",
   "name": "python",
   "nbconvert_exporter": "python",
   "pygments_lexer": "ipython3",
   "version": "3.8.8"
  }
 },
 "nbformat": 4,
 "nbformat_minor": 5
}
