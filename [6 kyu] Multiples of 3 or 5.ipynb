{
 "cells": [
  {
   "cell_type": "markdown",
   "id": "f2ec62d6",
   "metadata": {},
   "source": [
    "### [6 kyu] Multiples of 3 or 5"
   ]
  },
  {
   "cell_type": "markdown",
   "id": "ca022256",
   "metadata": {},
   "source": [
    "<div class=\"markdown prose max-w-none mb-8\" id=\"description\"><p>If we list all the natural numbers below 10 that are multiples of 3 or 5, we get 3, 5, 6 and 9. The sum of these multiples is 23.</p>\n",
    "<p>Finish the solution so that it returns the sum of all the multiples of 3 or 5 <strong>below</strong> the number passed in. \n",
    "Additionally, if the number is negative, return 0 (for languages that do have them).</p>\n",
    "<p><strong>Note:</strong> If the number is a multiple of <strong>both</strong> 3 and 5, only count it <em>once</em>.</p>\n",
    "<p><em><strong>Courtesy of projecteuler.net</strong> (<a href=\"https://projecteuler.net/problem=1\" data-turbolinks=\"false\" target=\"_blank\">Problem 1</a>)</em></p>\n",
    "</div>"
   ]
  },
  {
   "cell_type": "code",
   "execution_count": 1,
   "id": "4dffb9b1",
   "metadata": {},
   "outputs": [],
   "source": [
    "def solution(number: int) -> int:\n",
    "    return sum(x for x in range(number) if (x % 3 == 0) or (x % 5 == 0))"
   ]
  },
  {
   "cell_type": "code",
   "execution_count": 2,
   "id": "610aa72e",
   "metadata": {},
   "outputs": [],
   "source": [
    "assert solution(4) == 3\n",
    "assert solution(6) == 8\n",
    "assert solution(16) == 60\n",
    "assert solution(3) == 0\n",
    "assert solution(5) == 3\n",
    "assert solution(15) == 45\n",
    "assert solution(0) == 0\n",
    "assert solution(-1) == 0\n",
    "assert solution(10) == 23\n",
    "assert solution(20) == 78\n",
    "assert solution(200) == 9168"
   ]
  }
 ],
 "metadata": {
  "kernelspec": {
   "display_name": "Python 3",
   "language": "python",
   "name": "python3"
  },
  "language_info": {
   "codemirror_mode": {
    "name": "ipython",
    "version": 3
   },
   "file_extension": ".py",
   "mimetype": "text/x-python",
   "name": "python",
   "nbconvert_exporter": "python",
   "pygments_lexer": "ipython3",
   "version": "3.8.8"
  }
 },
 "nbformat": 4,
 "nbformat_minor": 5
}
