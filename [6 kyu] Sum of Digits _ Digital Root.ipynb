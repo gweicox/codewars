{
 "cells": [
  {
   "cell_type": "markdown",
   "id": "19b3b198",
   "metadata": {},
   "source": [
    "### [6 kyu] Sum of Digits _ Digital Root"
   ]
  },
  {
   "cell_type": "markdown",
   "id": "34b9d60d",
   "metadata": {},
   "source": [
    "<div class=\"markdown prose max-w-none mb-8\" id=\"description\"><p><a href=\"https://en.wikipedia.org/wiki/Digital_root\" data-turbolinks=\"false\" target=\"_blank\">Digital root</a> is the <em>recursive sum of all the digits in a number.</em></p>\n",
    "<p>Given <code>n</code>, take the sum of the digits of <code>n</code>. If that value has more than one digit, continue reducing in this way until a single-digit number is produced. The input will be a non-negative integer.</p>\n",
    "<h4 id=\"examples\">Examples</h4>\n",
    "<pre><code>    16  --&gt;  1 + 6 = 7\n",
    "   942  --&gt;  9 + 4 + 2 = 15  --&gt;  1 + 5 = 6\n",
    "132189  --&gt;  1 + 3 + 2 + 1 + 8 + 9 = 24  --&gt;  2 + 4 = 6\n",
    "493193  --&gt;  4 + 9 + 3 + 1 + 9 + 3 = 29  --&gt;  2 + 9 = 11  --&gt;  1 + 1 = 2\n",
    "</code></pre>\n",
    "</div>"
   ]
  },
  {
   "cell_type": "code",
   "execution_count": 1,
   "id": "a059b6db",
   "metadata": {},
   "outputs": [],
   "source": [
    "def digital_root(n: int) -> int:\n",
    "    while n > 9:\n",
    "        n = sum(int(x) for x in str(n))\n",
    "    return n\n",
    "\n",
    "# 2022.08.04"
   ]
  },
  {
   "cell_type": "code",
   "execution_count": 2,
   "id": "efda0b7b",
   "metadata": {
    "scrolled": true
   },
   "outputs": [],
   "source": [
    "assert digital_root(16) == 7\n",
    "assert digital_root(942) == 6\n",
    "assert digital_root(132189) == 6\n",
    "assert digital_root(493193) == 2"
   ]
  },
  {
   "cell_type": "markdown",
   "id": "11e5214b",
   "metadata": {},
   "source": [
    "#### clever solution"
   ]
  },
  {
   "cell_type": "code",
   "execution_count": 3,
   "id": "00263439",
   "metadata": {},
   "outputs": [],
   "source": [
    "# from bartholomisha\n",
    "def digital_root(n):\n",
    "    return n % 9 or n and 9"
   ]
  }
 ],
 "metadata": {
  "kernelspec": {
   "display_name": "Python 3",
   "language": "python",
   "name": "python3"
  },
  "language_info": {
   "codemirror_mode": {
    "name": "ipython",
    "version": 3
   },
   "file_extension": ".py",
   "mimetype": "text/x-python",
   "name": "python",
   "nbconvert_exporter": "python",
   "pygments_lexer": "ipython3",
   "version": "3.8.8"
  }
 },
 "nbformat": 4,
 "nbformat_minor": 5
}
