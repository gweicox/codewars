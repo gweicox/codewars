{
 "cells": [
  {
   "cell_type": "markdown",
   "id": "ff577dd1",
   "metadata": {},
   "source": [
    "### Categorize New Member [7 kyu]"
   ]
  },
  {
   "cell_type": "markdown",
   "id": "c55dd44d",
   "metadata": {},
   "source": [
    "<div class=\"markdown prose max-w-5xl mx-auto\" id=\"description\"><p>The Western Suburbs Croquet Club has two categories of membership, Senior and Open. They would like your help with an application form that will tell prospective members which category they will be placed.</p>\n",
    "<p>To be a senior, a member must be at least 55 years old and have a handicap greater than 7. In this croquet club, handicaps range from -2 to +26; the better the player the lower the handicap.</p>\n",
    "<h2 id=\"input\">Input</h2>\n",
    "<p>Input will consist of a list of pairs. Each pair contains information for a single potential member. Information consists of an integer for the person's age and an integer for the person's handicap.</p>\n",
    "<h2 id=\"output\">Output</h2>\n",
    "<p>Output will consist of a list of string values (in Haskell and C: <code>Open</code> or <code>Senior</code>) stating whether the respective member is to be placed in the senior or open category.</p>\n",
    "<h3 id=\"example\">Example</h3>\n",
    "<pre><code>input =  [[18, 20], [45, 2], [61, 12], [37, 6], [21, 21], [78, 9]]\n",
    "output = [\"Open\", \"Open\", \"Senior\", \"Open\", \"Open\", \"Senior\"]\n",
    "</code></pre>\n",
    "</div>"
   ]
  },
  {
   "cell_type": "code",
   "execution_count": 1,
   "id": "37c1341f",
   "metadata": {},
   "outputs": [],
   "source": [
    "from __future__ import annotations\n",
    "\n",
    "def open_or_senior(data: list[list[int]]) -> list[str]:\n",
    "    return ['Senior' if row[0] > 54 and row[1] > 7 else 'Open' for row in data]\n",
    "\n",
    "# 2022.08.04"
   ]
  },
  {
   "cell_type": "code",
   "execution_count": 2,
   "id": "54a4c853",
   "metadata": {},
   "outputs": [],
   "source": [
    "assert open_or_senior([(45, 12),(55,21),(19, -2),(104, 20)]) == ['Open', 'Senior', 'Open', 'Senior']\n",
    "assert open_or_senior([(16, 23),(73,1),(56, 20),(1, -1)]) == ['Open', 'Open', 'Senior', 'Open']"
   ]
  },
  {
   "cell_type": "markdown",
   "id": "90c00ec7",
   "metadata": {},
   "source": [
    "#### best practices"
   ]
  },
  {
   "cell_type": "code",
   "execution_count": 3,
   "id": "4bc8709b",
   "metadata": {},
   "outputs": [],
   "source": [
    "def open_or_senior(data):\n",
    "    return [\"Senior\" if age >= 55 and handicap >= 8 else \"Open\" for (age, handicap) in data]"
   ]
  }
 ],
 "metadata": {
  "kernelspec": {
   "display_name": "Python 3",
   "language": "python",
   "name": "python3"
  },
  "language_info": {
   "codemirror_mode": {
    "name": "ipython",
    "version": 3
   },
   "file_extension": ".py",
   "mimetype": "text/x-python",
   "name": "python",
   "nbconvert_exporter": "python",
   "pygments_lexer": "ipython3",
   "version": "3.8.8"
  }
 },
 "nbformat": 4,
 "nbformat_minor": 5
}
